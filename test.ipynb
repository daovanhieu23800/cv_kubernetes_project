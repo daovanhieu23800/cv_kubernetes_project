{
 "cells": [
  {
   "cell_type": "code",
   "execution_count": 36,
   "metadata": {},
   "outputs": [
    {
     "name": "stdout",
     "output_type": "stream",
     "text": [
      "\n",
      "image 1/1 /space/hotel/hieud/hieud_proj/cv_kubernetes_project/images/images.jpg: 384x640 5 persons, 1 bus, 1 backpack, 1 handbag, 38.4ms\n",
      "Speed: 2.4ms preprocess, 38.4ms inference, 2.7ms postprocess per image at shape (1, 3, 384, 640)\n"
     ]
    }
   ],
   "source": [
    "from ultralytics import YOLO\n",
    "import cv2\n",
    "from PIL import Image\n",
    "\n",
    "# Load a YOLO model\n",
    "\n",
    "# Load a pretrained YOLOv10n model\n",
    "model = YOLO(\"yolov9s.pt\")\n",
    "\n",
    "# Perform object detection on an image\n",
    "# Load an image\n",
    "img_path = '/space/hotel/hieud/hieud_proj/cv_kubernetes_project/images/images.jpg'\n",
    "img = Image.open(img_path)\n",
    "\n",
    "# Run inference\n",
    "results = model(img_path)\n"
   ]
  },
  {
   "cell_type": "code",
   "execution_count": 37,
   "metadata": {},
   "outputs": [
    {
     "name": "stdout",
     "output_type": "stream",
     "text": [
      "[          5           0           0           0           0           0          26          24]\n",
      "True <class 'str'> <class 'str'> bus bus\n",
      "False <class 'str'> <class 'str'> person bus\n",
      "False <class 'str'> <class 'str'> person bus\n",
      "False <class 'str'> <class 'str'> person bus\n",
      "False <class 'str'> <class 'str'> person bus\n",
      "False <class 'str'> <class 'str'> person bus\n",
      "False <class 'str'> <class 'str'> handbag bus\n",
      "False <class 'str'> <class 'str'> backpack bus\n"
     ]
    },
    {
     "data": {
      "text/plain": [
       "True"
      ]
     },
     "execution_count": 37,
     "metadata": {},
     "output_type": "execute_result"
    }
   ],
   "source": [
    "import numpy as np\n",
    "\n",
    "# Convert PIL image to OpenCV format\n",
    "img_cv = cv2.cvtColor(np.array(img), cv2.COLOR_RGB2BGR)\n",
    "obj_class=\"person\"\n",
    "confident=0.1\n",
    "\n",
    "# Loop through results and draw bounding boxes\n",
    "for result in results:\n",
    "    boxes = result.cpu().boxes.xyxy.numpy()  # Bounding boxes\n",
    "    confs = result.cpu().boxes.conf.numpy()  # Confidence scores\n",
    "    clss = result.cpu().boxes.cls.numpy()    # Class labels\n",
    "    print(clss)\n",
    "    for box, conf, cls in zip(boxes, confs, clss):\n",
    "        x1, y1, x2, y2 = map(int, box)\n",
    "        label = f'{result.names[int(cls)]} {conf:.2f}'\n",
    "        print(label==obj_class, type(label),type(obj_class), label,)\n",
    "        color = (0, 255, 0)  # Green color for bounding box\n",
    "        #if (label==obj_class) and (confs>=confident):\n",
    "        cv2.rectangle(img_cv, (x1, y1), (x2, y2), color, 2)\n",
    "        cv2.putText(img_cv, label, (x1, y1 - 10), cv2.FONT_HERSHEY_SIMPLEX, 0.9, color, 2)\n",
    "\n",
    "# Save the result image\n",
    "result_img_path = '/space/hotel/hieud/hieud_proj/cv_kubernetes_project/images/result_image.jpg'\n",
    "cv2.imwrite(result_img_path, img_cv)\n",
    "\n",
    "\n"
   ]
  },
  {
   "cell_type": "code",
   "execution_count": null,
   "metadata": {},
   "outputs": [],
   "source": []
  }
 ],
 "metadata": {
  "kernelspec": {
   "display_name": "test",
   "language": "python",
   "name": "python3"
  },
  "language_info": {
   "codemirror_mode": {
    "name": "ipython",
    "version": 3
   },
   "file_extension": ".py",
   "mimetype": "text/x-python",
   "name": "python",
   "nbconvert_exporter": "python",
   "pygments_lexer": "ipython3",
   "version": "3.9.18"
  }
 },
 "nbformat": 4,
 "nbformat_minor": 2
}
