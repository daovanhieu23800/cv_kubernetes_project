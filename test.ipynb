{
 "cells": [
  {
   "cell_type": "code",
   "execution_count": 11,
   "metadata": {},
   "outputs": [
    {
     "name": "stdout",
     "output_type": "stream",
     "text": [
      "ÿþ#\u0000 \u0000c\u0000v\u0000_\u0000k\u0000u\u0000b\u0000e\u0000r\u0000n\u0000e\u0000t\u0000e\u0000s\u0000_\u0000p\u0000r\u0000o\u0000j\u0000e\u0000c\u0000t\u0000\n",
      "\u0000\n",
      "\u0000S\u0000t\u0000r\u0000e\u0000a\u0000m\u0000l\u0000i\u0000t\u0000 \u0000D\u0000e\u0000m\u0000o\u0000:\u0000 \u0000T\u0000h\u0000i\u0000s\u0000 \u0000D\u0000e\u0000m\u0000o\u0000 \u0000w\u0000i\u0000l\u0000l\u0000 \u0000s\u0000h\u0000o\u0000w\u0000 \u0000h\u0000o\u0000w\u0000 \u0000t\u0000o\u0000 \u0000u\u0000s\u0000e\u0000 \u0000s\u0000t\u0000r\u0000e\u0000a\u0000m\u0000l\u0000i\u0000t\u0000 \u0000 \u0000o\u0000b\u0000j\u0000e\u0000c\u0000t\u0000 \u0000d\u0000e\u0000c\u0000t\u0000i\u0000o\u0000n\u0000 \u0000 \u0000k\u0000u\u0000b\u0000e\u0000r\u0000n\u0000e\u0000t\u0000e\u0000s\u0000\n",
      "\u0000\n",
      "\u0000\n",
      "<p>ÿþ#\u0000 \u0000c\u0000v\u0000<em>\u0000k\u0000u\u0000b\u0000e\u0000r\u0000n\u0000e\u0000t\u0000e\u0000s\u0000</em>\u0000p\u0000r\u0000o\u0000j\u0000e\u0000c\u0000t\u0000\n",
      "\u0000\n",
      "\u0000S\u0000t\u0000r\u0000e\u0000a\u0000m\u0000l\u0000i\u0000t\u0000 \u0000D\u0000e\u0000m\u0000o\u0000:\u0000 \u0000T\u0000h\u0000i\u0000s\u0000 \u0000D\u0000e\u0000m\u0000o\u0000 \u0000w\u0000i\u0000l\u0000l\u0000 \u0000s\u0000h\u0000o\u0000w\u0000 \u0000h\u0000o\u0000w\u0000 \u0000t\u0000o\u0000 \u0000u\u0000s\u0000e\u0000 \u0000s\u0000t\u0000r\u0000e\u0000a\u0000m\u0000l\u0000i\u0000t\u0000 \u0000 \u0000o\u0000b\u0000j\u0000e\u0000c\u0000t\u0000 \u0000d\u0000e\u0000c\u0000t\u0000i\u0000o\u0000n\u0000 \u0000 \u0000k\u0000u\u0000b\u0000e\u0000r\u0000n\u0000e\u0000t\u0000e\u0000s\u0000\n",
      "\u0000\n",
      "\u0000</p>\n"
     ]
    }
   ],
   "source": [
    "import markdown\n",
    "with open(\"README.md\", \"r\", encoding=\"ISO-8859-1\") as f:    \n",
    "    markdown_string = f.read()\n",
    "    print(markdown_string)\n",
    "html_string = markdown.markdown(markdown_string)\n",
    "print(html_string)"
   ]
  },
  {
   "cell_type": "code",
   "execution_count": null,
   "metadata": {},
   "outputs": [],
   "source": []
  }
 ],
 "metadata": {
  "kernelspec": {
   "display_name": "test",
   "language": "python",
   "name": "python3"
  },
  "language_info": {
   "codemirror_mode": {
    "name": "ipython",
    "version": 3
   },
   "file_extension": ".py",
   "mimetype": "text/x-python",
   "name": "python",
   "nbconvert_exporter": "python",
   "pygments_lexer": "ipython3",
   "version": "3.9.18"
  }
 },
 "nbformat": 4,
 "nbformat_minor": 2
}
